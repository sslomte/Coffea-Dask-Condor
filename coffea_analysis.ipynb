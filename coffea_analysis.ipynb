{
 "cells": [
  {
   "cell_type": "markdown",
   "id": "5da16986-b620-4d9e-8d0d-d669d7c8ccf5",
   "metadata": {},
   "source": [
    "# AGC Tools 2022: Columnar Analysis with Coffea"
   ]
  },
  {
   "cell_type": "markdown",
   "id": "d61ced43-27c1-42a1-9f1e-7aeecf73c406",
   "metadata": {},
   "source": [
    "<h2>Authors</h2>\n",
    "<b>Notebook by:</b> Mat Adamec (<i>UNL</i>)\n",
    "<br/>\n",
    "<br/>\n",
    "<b>coffea:</b>\n",
    "<br/>\n",
    "<a href=\"https://doi.org/10.5281/zenodo.6407056\"><img src=\"https://zenodo.org/badge/DOI/10.5281/zenodo.6407056.svg\" alt=\"DOI\"></a>\n",
    "<br/>\n",
    "    <ul>\n",
    "        <li>Lindsey Gray, Matteo Cremonesi, Bo Jayatilaka, Oliver Gutsche, Nick Smith, Allison Hall, Kevin Pedro, Maria Acosta <i>(FNAL)</i>; Andrew Melo <i>(Vanderbilt)</i>; Stefano Belforte <i>(INFN)</i>; and others</li>\n",
    "        <li>In collaboration with IRIS-HEP members: Jim Pivarski <i>(Princeton)</i>, Ben Galewsky <i>(NCSA)</i>, Mark Neubauer <i>(UIUC)</i></li>\n",
    "        <br/>\n",
    "    </ul>\n",
    "<b><a href=\"https://github.com/CoffeaTeam/coffea-casa\">coffea-casa</a>:</b>\n",
    "    <ul>\n",
    "        <li>Ken Bloom, Oksana Shadura <i>(UNL)</i>; Garhan Attebury, Carl Lundstedt, Derek Weitzel <i>(UNL-HCC)</i>; Mátyás Selmeci <i>(UWM)</i>; Brian Bockelman <i>(Morgridge Institute)</i></li>\n",
    "    </ul>"
   ]
  },
  {
   "cell_type": "markdown",
   "id": "add9e576-ea7b-4198-b020-bd328190aaf1",
   "metadata": {},
   "source": [
    "## Introduction"
   ]
  },
  {
   "cell_type": "markdown",
   "id": "034b96fc-c169-42c5-9d39-c0f5d3eb1d7f",
   "metadata": {},
   "source": [
    "### What is columnar analysis?\n",
    "\n",
    "The traditional way of analyzing data in HEP involves the event loop. In this paradigm, we would write an explicit loop to go through every event (and through every field of an event that we wish to make a cut on). This method of analysis is rather bulky in comparison to the columnar approach, which (ideally) has no explicit loops at all! Instead, the fields of our data are treated as arrays and analysis is done by way of numpy-like array operations.\n",
    "\n",
    "<center><img src=\"utilities/columnar.png\" alt=\"diagram of event loop vs. columnar paradigm\" style=\"width:600px;\"/></center>\n",
    "\n",
    "In HEP, numpy is insufficient as our data is non-rectangular (an event can have a variable amount of muons, for example). This problem is resolved by [awkward arrays](https://awkward-array.org/quickstart.html)."
   ]
  },
  {
   "cell_type": "markdown",
   "id": "cb3dfb9b-5318-4bef-beb4-217d400722ab",
   "metadata": {},
   "source": [
    "### What is Coffea?\n",
    "\n",
    "Awkward arrays let us access data in a columnar fashion, but that's just the first part of doing an analysis. Coffea builds upon this foundation with a variety of features that better enable us to do our analyses. These features include:\n",
    "\n",
    "* **Hists** give us ROOT-like histograms. Actually, this is now a [standalone package](https://hist.readthedocs.io/en/latest/), but it has been heavily influenced by the (old) coffea hist subpackage, and it's a core component of the coffea ecosystem.\n",
    "\n",
    "* **NanoEvents** allows us to apply a schema to our awkward array. This schema imposes behavior that we would not have in a simple awkward array, but which makes our (HEP) lives much easier. On one hand, it can serve to better organize our data by providing a structure for naming, nesting, and cross-referencing fields; on the other, it allows us to add physics object methods (e.g., for LorentzVectors).\n",
    "\n",
    "* **Processors** are coffea's way of encapsulating an analysis in a way that is deployment-neutral. Once you have a Coffea analysis, you can throw it into a processor and use any of a variety of executors (e.g. Dask, Parsl, Spark) to chunk it up and run it across distributed workers. This makes scale-out simple and dynamic for users.\n",
    "\n",
    "* **Lookup tools** are available in Coffea for any corrections that need to be made to physics data. These tools read a variety of correction file formats and turn them into lookup tables.\n",
    "\n",
    "In summary, coffea's features enter the analysis pipeline at every step. They improve the usability of our input (NanoEvents), enable us to map it to a histogram output (Hists), and allow us tools for scaling and deployment (Processors)."
   ]
  },
  {
   "cell_type": "markdown",
   "id": "95db4a55-b12f-47d6-a099-b7a01edaa864",
   "metadata": {},
   "source": [
    "### Looking Ahead\n",
    "\n",
    "In this tutorial, we will cover some basics of awkward to get a handle on how columnar analysis is done. We will then look at how features of coffea can make our lives easier as we navigate our data and deploy our analysis. By the end, we will seek to plot a Z-peak from our [simulated Z->MuMu dataset](https://opendata.cern.ch/record/21587). It contains approximately 44000 events at 850 MB and is formatted in a generic ntuple format.\n",
    "\n",
    "An Appendix is placed at the end of this notebook. It contains links to additional resources, as well as for topics which are beyond the scope of this tutorial."
   ]
  },
  {
   "cell_type": "markdown",
   "id": "5a7eb2de-bed9-4e85-b370-6f6393020590",
   "metadata": {},
   "source": [
    "### Imports"
   ]
  },
  {
   "cell_type": "code",
   "execution_count": 22,
   "id": "67306dc8-6bc4-4363-9d2b-f1e3df7e0dd8",
   "metadata": {
    "tags": []
   },
   "outputs": [],
   "source": [
    "# Preliminary\n",
    "## Columnar analysis basics.\n",
    "import uproot\n",
    "import awkward as ak\n",
    "## Plotting.\n",
    "import matplotlib.pyplot as plt\n",
    "\n",
    "# Hists\n",
    "import hist\n",
    "from hist import Hist\n",
    "\n",
    "# NanoEvents\n",
    "from coffea.nanoevents import NanoEventsFactory, BaseSchema\n",
    "# Processors\n",
    "import coffea.processor as processor"
   ]
  },
  {
   "cell_type": "markdown",
   "id": "ac2ac174-48d3-47b4-9135-357de64027f4",
   "metadata": {},
   "source": [
    "## **Preliminary**: Columnar Analysis Basics with Awkward"
   ]
  },
  {
   "cell_type": "markdown",
   "id": "478f11d5-5f96-4f75-8593-4fb6eb427ee8",
   "metadata": {},
   "source": [
    "We begin our tutorial with a crash course through columnar analysis. This is meant to give a basic understanding of columnar operations, but for a more exhaustive introduction to the paradigm itself I recommend referring to an awkward tutorial (refer to the Appendix).\n",
    "\n",
    "We begin by loading in our data. The standard way to do this is with [uproot](https://uproot.readthedocs.io/en/latest/index.html)."
   ]
  },
  {
   "cell_type": "code",
   "execution_count": 23,
   "id": "77c2c54e-a3d1-4988-9ad4-8a75833de71e",
   "metadata": {
    "tags": []
   },
   "outputs": [
    {
     "data": {
      "text/plain": [
       "<TTree 'events' (214 branches) at 0x7f8c8cb57a90>"
      ]
     },
     "execution_count": 23,
     "metadata": {},
     "output_type": "execute_result"
    }
   ],
   "source": [
    "events = uproot.open('https://xrootd-local.unl.edu:1094//store/user/AGC/zmumu/RunIIFall15MiniAODv2/ZToMuMu_NNPDF30_13TeV-powheg_M_50_120/MINIAODSIM/PU25nsData2015v1_76X_mcRun2_asymptotic_v12-v1/20000/022FAAEA-1BB9-E511-A6DF-44A842CFD5D8.root')['events']\n",
    "events"
   ]
  },
  {
   "cell_type": "markdown",
   "id": "38d7e136-c980-482a-87d5-f48159d077b8",
   "metadata": {},
   "source": [
    "We now have an events tree. We can view its branches by querying its <code>keys()</code>:"
   ]
  },
  {
   "cell_type": "code",
   "execution_count": 24,
   "id": "64305403-ccb2-47cd-9a08-4a48a0523926",
   "metadata": {
    "tags": []
   },
   "outputs": [
    {
     "data": {
      "text/plain": [
       "['numberelectron',\n",
       " 'nelectron_e',\n",
       " 'electron_e',\n",
       " 'nelectron_pt',\n",
       " 'electron_pt',\n",
       " 'nelectron_px',\n",
       " 'electron_px',\n",
       " 'nelectron_py',\n",
       " 'electron_py',\n",
       " 'nelectron_pz',\n",
       " 'electron_pz',\n",
       " 'nelectron_eta',\n",
       " 'electron_eta',\n",
       " 'nelectron_phi',\n",
       " 'electron_phi',\n",
       " 'nelectron_ch',\n",
       " 'electron_ch',\n",
       " 'nelectron_iso',\n",
       " 'electron_iso',\n",
       " 'nelectron_isLoose',\n",
       " 'electron_isLoose',\n",
       " 'nelectron_isMedium',\n",
       " 'electron_isMedium',\n",
       " 'nelectron_isTight',\n",
       " 'electron_isTight',\n",
       " 'nelectron_dxy',\n",
       " 'electron_dxy',\n",
       " 'nelectron_dz',\n",
       " 'electron_dz',\n",
       " 'nelectron_dxyError',\n",
       " 'electron_dxyError',\n",
       " 'nelectron_dzError',\n",
       " 'electron_dzError',\n",
       " 'numGenPart',\n",
       " 'nGenPart_pt',\n",
       " 'GenPart_pt',\n",
       " 'nGenPart_eta',\n",
       " 'GenPart_eta',\n",
       " 'nGenPart_mass',\n",
       " 'GenPart_mass',\n",
       " 'nGenPart_pdgId',\n",
       " 'GenPart_pdgId',\n",
       " 'nGenPart_phi',\n",
       " 'GenPart_phi',\n",
       " 'nGenPart_px',\n",
       " 'GenPart_px',\n",
       " 'nGenPart_py',\n",
       " 'GenPart_py',\n",
       " 'nGenPart_pz',\n",
       " 'GenPart_pz',\n",
       " 'nGenPart_status',\n",
       " 'GenPart_status',\n",
       " 'numberjet',\n",
       " 'njet_e',\n",
       " 'jet_e',\n",
       " 'njet_pt',\n",
       " 'jet_pt',\n",
       " 'njet_px',\n",
       " 'jet_px',\n",
       " 'njet_py',\n",
       " 'jet_py',\n",
       " 'njet_pz',\n",
       " 'jet_pz',\n",
       " 'njet_eta',\n",
       " 'jet_eta',\n",
       " 'njet_phi',\n",
       " 'jet_phi',\n",
       " 'njet_ch',\n",
       " 'jet_ch',\n",
       " 'njet_mass',\n",
       " 'jet_mass',\n",
       " 'njet_btag',\n",
       " 'jet_btag',\n",
       " 'njet_pt_uncorr',\n",
       " 'jet_pt_uncorr',\n",
       " 'met_e',\n",
       " 'met_pt',\n",
       " 'met_px',\n",
       " 'met_py',\n",
       " 'met_phi',\n",
       " 'met_significance',\n",
       " 'met_rawpt',\n",
       " 'met_rawphi',\n",
       " 'met_rawe',\n",
       " 'numbermuon',\n",
       " 'nmuon_e',\n",
       " 'muon_e',\n",
       " 'nmuon_pt',\n",
       " 'muon_pt',\n",
       " 'nmuon_px',\n",
       " 'muon_px',\n",
       " 'nmuon_py',\n",
       " 'muon_py',\n",
       " 'nmuon_pz',\n",
       " 'muon_pz',\n",
       " 'nmuon_eta',\n",
       " 'muon_eta',\n",
       " 'nmuon_phi',\n",
       " 'muon_phi',\n",
       " 'nmuon_ch',\n",
       " 'muon_ch',\n",
       " 'nmuon_isSoft',\n",
       " 'muon_isSoft',\n",
       " 'nmuon_isTight',\n",
       " 'muon_isTight',\n",
       " 'nmuon_dxy',\n",
       " 'muon_dxy',\n",
       " 'nmuon_dz',\n",
       " 'muon_dz',\n",
       " 'nmuon_dxyError',\n",
       " 'muon_dxyError',\n",
       " 'nmuon_dzError',\n",
       " 'muon_dzError',\n",
       " 'nmuon_pfreliso03all',\n",
       " 'muon_pfreliso03all',\n",
       " 'nmuon_pfreliso04all',\n",
       " 'muon_pfreliso04all',\n",
       " 'nmuon_jetidx',\n",
       " 'muon_jetidx',\n",
       " 'nmuon_genpartidx',\n",
       " 'muon_genpartidx',\n",
       " 'numberphoton',\n",
       " 'nphoton_e',\n",
       " 'photon_e',\n",
       " 'nphoton_pt',\n",
       " 'photon_pt',\n",
       " 'nphoton_px',\n",
       " 'photon_px',\n",
       " 'nphoton_py',\n",
       " 'photon_py',\n",
       " 'nphoton_pz',\n",
       " 'photon_pz',\n",
       " 'nphoton_eta',\n",
       " 'photon_eta',\n",
       " 'nphoton_phi',\n",
       " 'photon_phi',\n",
       " 'nphoton_ch',\n",
       " 'photon_ch',\n",
       " 'nphoton_chIso',\n",
       " 'photon_chIso',\n",
       " 'nphoton_nhIso',\n",
       " 'photon_nhIso',\n",
       " 'nphoton_phIso',\n",
       " 'photon_phIso',\n",
       " 'nphoton_isLoose',\n",
       " 'photon_isLoose',\n",
       " 'nphoton_isMedium',\n",
       " 'photon_isMedium',\n",
       " 'nphoton_isTight',\n",
       " 'photon_isTight',\n",
       " 'nPV_chi2',\n",
       " 'PV_chi2',\n",
       " 'nPV_ndof',\n",
       " 'PV_ndof',\n",
       " 'PV_npvs',\n",
       " 'PV_npvsGood',\n",
       " 'nPV_x',\n",
       " 'PV_x',\n",
       " 'nPV_y',\n",
       " 'PV_y',\n",
       " 'nPV_z',\n",
       " 'PV_z',\n",
       " 'numbertau',\n",
       " 'ntau_e',\n",
       " 'tau_e',\n",
       " 'ntau_pt',\n",
       " 'tau_pt',\n",
       " 'ntau_px',\n",
       " 'tau_px',\n",
       " 'ntau_py',\n",
       " 'tau_py',\n",
       " 'ntau_pz',\n",
       " 'tau_pz',\n",
       " 'ntau_eta',\n",
       " 'tau_eta',\n",
       " 'ntau_phi',\n",
       " 'tau_phi',\n",
       " 'ntau_ch',\n",
       " 'tau_ch',\n",
       " 'ntau_mass',\n",
       " 'tau_mass',\n",
       " 'ntau_decaymode',\n",
       " 'tau_decaymode',\n",
       " 'ntau_iddecaymode',\n",
       " 'tau_iddecaymode',\n",
       " 'ntau_idisoraw',\n",
       " 'tau_idisoraw',\n",
       " 'ntau_idisovloose',\n",
       " 'tau_idisovloose',\n",
       " 'ntau_idisoloose',\n",
       " 'tau_idisoloose',\n",
       " 'ntau_idisomedium',\n",
       " 'tau_idisomedium',\n",
       " 'ntau_idisotight',\n",
       " 'tau_idisotight',\n",
       " 'ntau_idantieletight',\n",
       " 'tau_idantieletight',\n",
       " 'ntau_idantimutight',\n",
       " 'tau_idantimutight',\n",
       " 'numbertrigobj',\n",
       " 'ntrigobj_e',\n",
       " 'trigobj_e',\n",
       " 'ntrigobj_pt',\n",
       " 'trigobj_pt',\n",
       " 'ntrigobj_px',\n",
       " 'trigobj_px',\n",
       " 'ntrigobj_py',\n",
       " 'trigobj_py',\n",
       " 'ntrigobj_pz',\n",
       " 'trigobj_pz',\n",
       " 'ntrigobj_eta',\n",
       " 'trigobj_eta',\n",
       " 'ntrigobj_phi',\n",
       " 'trigobj_phi']"
      ]
     },
     "execution_count": 24,
     "metadata": {},
     "output_type": "execute_result"
    }
   ],
   "source": [
    "events.keys()"
   ]
  },
  {
   "cell_type": "markdown",
   "id": "8e4d5996-3ab1-465a-a533-202d39947b8a",
   "metadata": {},
   "source": [
    "Each of these branches can be interpreted as an awkward array. Let's examine their contents. Since this is a mumu dataset, it seems natural to look at muons."
   ]
  },
  {
   "cell_type": "code",
   "execution_count": 25,
   "id": "2e628ae2-a818-416d-bfa9-adf2b222eefd",
   "metadata": {},
   "outputs": [
    {
     "name": "stdout",
     "output_type": "stream",
     "text": [
      "[[51, 40.7, 3.24], [48.3, 40.3], [34.6, ... [29.1], [55.2, 34, 3.13, 1.53, 1.08]]\n"
     ]
    }
   ],
   "source": [
    "muon_pt = events['muon_pt'].array()\n",
    "print(muon_pt)"
   ]
  },
  {
   "cell_type": "markdown",
   "id": "4d6782cc-1ae5-4eac-bf99-3bd3ded81f07",
   "metadata": {},
   "source": [
    "It's instructive to take a closer look at the structure of this array. First, we see that it is an array of subarrays. Each subarray represents one event, and each element of a subarray represents one muon. It is now clear what we mean by \"non-rectangular data.\" There are a variable amount of muons, so the subarrays are not of equal size.\n",
    "\n",
    "If we look at another (non-muon) branch, we would expect it to have the same amount of subarrays, but not necessarily the same amount of elements in each subarray. For comparison, let's now look at electrons:"
   ]
  },
  {
   "cell_type": "code",
   "execution_count": 26,
   "id": "0f0a0f4c-c5d1-4ece-8e9b-e509c89d4964",
   "metadata": {},
   "outputs": [
    {
     "name": "stdout",
     "output_type": "stream",
     "text": [
      "[[], [], [], [], [], [], [], [8.26], [], ... [], [], [], [], [], [], [], [], []]\n"
     ]
    }
   ],
   "source": [
    "electron_pt = events['electron_pt'].array()\n",
    "print(electron_pt)"
   ]
  },
  {
   "cell_type": "markdown",
   "id": "03e6eea7-cd4e-43fc-b041-4f11b4b7615b",
   "metadata": {},
   "source": [
    "In which case it is clear that there are not the same amount of elements in each subarray (most are empty!)\n",
    "\n",
    "To drive the point home, we can also prove that there is an equal amount of subarrays:"
   ]
  },
  {
   "cell_type": "code",
   "execution_count": 27,
   "id": "fd8fc00a-02bd-4418-9fbe-b4a572fbe159",
   "metadata": {},
   "outputs": [
    {
     "data": {
      "text/plain": [
       "(43962, 43962)"
      ]
     },
     "execution_count": 27,
     "metadata": {},
     "output_type": "execute_result"
    }
   ],
   "source": [
    "ak.num(electron_pt, axis=0), ak.num(muon_pt, axis=0)"
   ]
  },
  {
   "cell_type": "markdown",
   "id": "be9678e7-d52d-47f3-91db-83196371641d",
   "metadata": {},
   "source": [
    "A quick note about axes in awkward: 0 is always the shallowest, while -1 is the deepest. In other words, <code>axis=0</code> would tell us the number of subarrays (events), while <code>axis=-1</code> would tell us the number of muons within each subarray:"
   ]
  },
  {
   "cell_type": "code",
   "execution_count": 28,
   "id": "de72dea0-6a8b-4fbf-8ab7-73afcb1505a4",
   "metadata": {},
   "outputs": [
    {
     "data": {
      "text/plain": [
       "(<Array [0, 0, 0, 0, 0, 0, ... 0, 0, 0, 0, 0, 0] type='43962 * int64'>,\n",
       " <Array [3, 2, 3, 2, 2, 2, ... 1, 1, 2, 3, 1, 5] type='43962 * int64'>)"
      ]
     },
     "execution_count": 28,
     "metadata": {},
     "output_type": "execute_result"
    }
   ],
   "source": [
    "ak.num(electron_pt, axis=-1), ak.num(muon_pt, axis=-1)"
   ]
  },
  {
   "cell_type": "markdown",
   "id": "56bf2733-30d8-449f-aa8c-a11266a28a84",
   "metadata": {},
   "source": [
    "Then, if we wanted to know the total number of objects (muons or electrons) in our branch, we could just sum up the above output. Given this is a mumu dataset, we'd expect roughly twice as many muons as events and very few electrons. Let's verify this:"
   ]
  },
  {
   "cell_type": "code",
   "execution_count": 29,
   "id": "2f8b148b-d268-4e82-8b4f-237fd3c3ad4d",
   "metadata": {},
   "outputs": [
    {
     "data": {
      "text/plain": [
       "(9903, 92259)"
      ]
     },
     "execution_count": 29,
     "metadata": {},
     "output_type": "execute_result"
    }
   ],
   "source": [
    "ak.sum(ak.num(electron_pt, axis=-1)), ak.sum(ak.num(muon_pt, axis=-1))"
   ]
  },
  {
   "cell_type": "markdown",
   "id": "d7d36cbc-7a9b-4ed6-827e-b7c2c3b27162",
   "metadata": {},
   "source": [
    "Okay - so we can access data. How do we actually manipulate it to do analysis? Well, most simple cuts can be handled by masking. A mask is a Boolean array which is generated by applying a condition to a data array. For example, if we want only muons with p<sub>T</sub> > 10, our mask would be:"
   ]
  },
  {
   "cell_type": "code",
   "execution_count": 30,
   "id": "8c57d1ba-4130-4a44-934a-2110ff75146c",
   "metadata": {},
   "outputs": [
    {
     "name": "stdout",
     "output_type": "stream",
     "text": [
      "[[True, True, False], [True, True], ... [True], [True, True, False, False, False]]\n"
     ]
    }
   ],
   "source": [
    "print(muon_pt > 10)"
   ]
  },
  {
   "cell_type": "markdown",
   "id": "c26a0029-a088-43e6-9232-4fdbb52d2371",
   "metadata": {},
   "source": [
    "Then, we can apply the mask to our data. The syntax follows other standard array selection operations: <code>data[mask]</code>. This will pick out only the elements of our data which correspond to a <code>True</code>. \n",
    "\n",
    "Let's pause and consider the details of this methodology. Our mask in this case must have the same shape as our muons branch, and this is guaranteed to be the case since it is generated from the data in that branch. When we apply this mask, the output should have the same amount of events, but it should down-select muons - muons which correspond to False should be dropped. Let's compare to check:"
   ]
  },
  {
   "cell_type": "code",
   "execution_count": 31,
   "id": "672f9542-4002-4776-a571-e1d4c83228c1",
   "metadata": {},
   "outputs": [
    {
     "name": "stdout",
     "output_type": "stream",
     "text": [
      "Input: [[51, 40.7, 3.24], [48.3, 40.3], [34.6, ... [29.1], [55.2, 34, 3.13, 1.53, 1.08]]\n",
      "Output: [[51, 40.7], [48.3, 40.3], [34.6], [28.4, ... [43.6, 37.2], [29.1], [55.2, 34]]\n"
     ]
    }
   ],
   "source": [
    "print('Input:', muon_pt)\n",
    "print('Output:', muon_pt[muon_pt > 10])"
   ]
  },
  {
   "cell_type": "markdown",
   "id": "a36a805e-8b0a-4d60-8901-bc76dbb4aab7",
   "metadata": {},
   "source": [
    "We can also confirm we have fewer muons now, but the same amount of events:"
   ]
  },
  {
   "cell_type": "code",
   "execution_count": 32,
   "id": "4f43d9a0-d242-4702-acb7-90f9a0b561ea",
   "metadata": {},
   "outputs": [
    {
     "name": "stdout",
     "output_type": "stream",
     "text": [
      "Input Counts: 92259\n",
      "Output Counts: 57514\n",
      "Input Size: 43962\n",
      "Output Size: 43962\n"
     ]
    }
   ],
   "source": [
    "print('Input Counts:', ak.sum(ak.num(muon_pt, axis=1)))\n",
    "print('Output Counts:', ak.sum(ak.num(muon_pt[muon_pt > 10], axis=1)))\n",
    "\n",
    "print('Input Size:', ak.num(muon_pt, axis=0))\n",
    "print('Output Size:', ak.num(muon_pt[ak.num(muon_pt)], axis=0))"
   ]
  },
  {
   "cell_type": "markdown",
   "id": "c2c4cd0e-834a-44b8-b2b8-fd0d956ddd54",
   "metadata": {},
   "source": [
    "What if we wanted to do a selection on our events, rather than on our muons? Then we'd just need a mask with the same length as our events array, with a <code>True</code> or <code>False</code> entry in place of the subarray instead of the element of the subarray. For example, we might want to select events which have at least one electron. Then our mask would be:"
   ]
  },
  {
   "cell_type": "code",
   "execution_count": 33,
   "id": "e11a2b07-dfc7-43b5-abc2-850145a23ee2",
   "metadata": {},
   "outputs": [
    {
     "data": {
      "text/plain": [
       "<Array [False, False, False, ... False, False] type='43962 * bool'>"
      ]
     },
     "execution_count": 33,
     "metadata": {},
     "output_type": "execute_result"
    }
   ],
   "source": [
    "ak.num(electron_pt) >= 1"
   ]
  },
  {
   "cell_type": "markdown",
   "id": "2c38ba14-2149-4456-9360-cfc21d5a3f1f",
   "metadata": {},
   "source": [
    "Which you can note does not have the same structure as the muon cut above; it is a flat array. Applying the mask:"
   ]
  },
  {
   "cell_type": "code",
   "execution_count": 34,
   "id": "cc85b4d9-3e95-4720-ae07-db839d731a78",
   "metadata": {},
   "outputs": [
    {
     "name": "stdout",
     "output_type": "stream",
     "text": [
      "Input: [[], [], [], [], [], [], [], [8.26], [], ... [], [], [], [], [], [], [], [], []]\n",
      "Output: [[8.26], [10.2], [6.16], [8.67], [4.92], ... [4.49], [2.34], [2.5], [2.5], [52.5]]\n"
     ]
    }
   ],
   "source": [
    "print('Input:', electron_pt)\n",
    "print('Output:', electron_pt[ak.num(electron_pt) >= 1])"
   ]
  },
  {
   "cell_type": "markdown",
   "id": "ff3dec4f-a12b-47a8-91fa-e5b1250bb0b1",
   "metadata": {},
   "source": [
    "You can see that the empty arrays have been removed since they don't meet the cut, and the first entry is now the 8.26 we saw in our input. If we look at the size of our input and output arrays now, we will see a discrepency because we have thrown our our empty events:"
   ]
  },
  {
   "cell_type": "code",
   "execution_count": 35,
   "id": "b6d7e686-eca8-4701-8319-869de3666f24",
   "metadata": {},
   "outputs": [
    {
     "name": "stdout",
     "output_type": "stream",
     "text": [
      "Input Size: 43962\n",
      "Output Size: 8359\n"
     ]
    }
   ],
   "source": [
    "print('Input Size:', ak.num(electron_pt, axis=0))\n",
    "print('Output Size:', ak.num(electron_pt[ak.num(electron_pt) >= 1], axis=0))"
   ]
  },
  {
   "cell_type": "markdown",
   "id": "020a29d0-47d1-4eb8-8228-0584866b3bfa",
   "metadata": {},
   "source": [
    "Of course, in this case we still have the same amount of electrons. We've just gotten rid of empty events."
   ]
  },
  {
   "cell_type": "code",
   "execution_count": 36,
   "id": "23ee081a-dbd0-4e50-93c7-4fbe3b1c3b95",
   "metadata": {},
   "outputs": [
    {
     "name": "stdout",
     "output_type": "stream",
     "text": [
      "Input Counts: 9903\n",
      "Output Counts: 9903\n"
     ]
    }
   ],
   "source": [
    "print('Input Counts:', ak.sum(ak.num(electron_pt, axis=1)))\n",
    "print('Output Counts:', ak.sum(ak.num(electron_pt[ak.num(electron_pt > 10) >= 1], axis=1)))"
   ]
  },
  {
   "cell_type": "markdown",
   "id": "1fa3d97f-f64e-4448-8def-eeada2fe791e",
   "metadata": {},
   "source": [
    "These sorts of cuts are how the bulk of columnar analysis can be done. Awkward comes equipped with features for other standard operations, such as combinatorics and an analogue to <code>np.where()</code> (<code>ak.where()</code>). Other resources (listed in the appendix) cover it more extensively and do it better justice.\n",
    "\n",
    "Nonetheless, there are a couple of things which aren't exactly pretty. For example, what if we want LorentzVector operations? The nicest way to handle this is with coffea schemas."
   ]
  },
  {
   "cell_type": "markdown",
   "id": "0eb7edc6-cbeb-465b-a3f7-af0d6c62fd85",
   "metadata": {},
   "source": [
    "## **NanoEvents:** Making Data Physics-Friendly"
   ]
  },
  {
   "cell_type": "markdown",
   "id": "dea69bdd-7e37-41b2-a5a7-4884af78ac37",
   "metadata": {},
   "source": [
    "Before we can dive into our Z-peak analysis, we need to spruce up our data a bit.\n",
    "\n",
    "Let's turn our attention to NanoEvents and schemas. Schemas let us better organize our file and impose physics methods onto our data. There exist schemas for some standard file formats, most prominently NanoAOD, and there is a <code>BaseSchema</code> which operates much like uproot. The coffea development team welcomes community development of other schemas and it is not so difficult to do so.\n",
    "\n",
    "For the purposes of this tutorial, I have already made a schema. We won't go into the details, but we will show off its features and the general structure. First, let's take a look at our data structure again. Because there's a lot of branches, we'll zoom in on the muon-related ones here:"
   ]
  },
  {
   "cell_type": "code",
   "execution_count": 37,
   "id": "9343cc44-7ef9-46b0-a982-d548a77fe250",
   "metadata": {
    "tags": []
   },
   "outputs": [
    {
     "name": "stdout",
     "output_type": "stream",
     "text": [
      "numbermuon\n",
      "nmuon_e\n",
      "muon_e\n",
      "nmuon_pt\n",
      "muon_pt\n",
      "nmuon_px\n",
      "muon_px\n",
      "nmuon_py\n",
      "muon_py\n",
      "nmuon_pz\n",
      "muon_pz\n",
      "nmuon_eta\n",
      "muon_eta\n",
      "nmuon_phi\n",
      "muon_phi\n",
      "nmuon_ch\n",
      "muon_ch\n",
      "nmuon_isSoft\n",
      "muon_isSoft\n",
      "nmuon_isTight\n",
      "muon_isTight\n",
      "nmuon_dxy\n",
      "muon_dxy\n",
      "nmuon_dz\n",
      "muon_dz\n",
      "nmuon_dxyError\n",
      "muon_dxyError\n",
      "nmuon_dzError\n",
      "muon_dzError\n",
      "nmuon_pfreliso03all\n",
      "muon_pfreliso03all\n",
      "nmuon_pfreliso04all\n",
      "muon_pfreliso04all\n",
      "nmuon_jetidx\n",
      "muon_jetidx\n",
      "nmuon_genpartidx\n",
      "muon_genpartidx\n"
     ]
    }
   ],
   "source": [
    "branches = uproot.open(\"https://xrootd-local.unl.edu:1094//store/user/AGC/zmumu/RunIIFall15MiniAODv2/ZToMuMu_NNPDF30_13TeV-powheg_M_50_120/MINIAODSIM/PU25nsData2015v1_76X_mcRun2_asymptotic_v12-v1/20000/022FAAEA-1BB9-E511-A6DF-44A842CFD5D8.root\")['events']\n",
    "\n",
    "for branch in branches.keys():\n",
    "    if 'muon' in branch:\n",
    "        print(branch)"
   ]
  },
  {
   "cell_type": "markdown",
   "id": "11330d3d-7206-4a7c-8d96-47abd00b3e35",
   "metadata": {},
   "source": [
    "By default, uproot (and <code>BaseSchema</code>)  treats all of the muon branches as distinct branches with distinct data. This is not ideal, as some of our data is redundant, e.g., all of the <code>nmuon_*</code> branches better have the same counts. Further, we'd expect all the <code>muon_*</code> branches to have the same shape, as each muon should have an entry in each branch.\n",
    "\n",
    "The first benefit of instating a schema, then, is a standardization of our fields. It would be more succinct to create a general <code>muon</code> collection under which all of these branches (in NanoEvents, <i>fields</i>) with identical size can be housed, and to scrap the redundant ones. We can use <code>numbermuon</code> to figure out how many muons should be in each subarray (the counts, or offsets), and then fill the contents with each <code>muon_*</code> field. We can repeat this for the other branches."
   ]
  },
  {
   "cell_type": "code",
   "execution_count": 38,
   "id": "05706bd9-dc43-4272-b492-254edb354c6c",
   "metadata": {
    "tags": []
   },
   "outputs": [],
   "source": [
    "from agc_schema import AGCSchema\n",
    "agc_events = NanoEventsFactory.from_root('https://xrootd-local.unl.edu:1094//store/user/AGC/zmumu/RunIIFall15MiniAODv2/ZToMuMu_NNPDF30_13TeV-powheg_M_50_120/MINIAODSIM/PU25nsData2015v1_76X_mcRun2_asymptotic_v12-v1/20000/022FAAEA-1BB9-E511-A6DF-44A842CFD5D8.root', schemaclass=AGCSchema, treepath='events').events()"
   ]
  },
  {
   "cell_type": "markdown",
   "id": "0128655f-4749-40bd-813b-1e7acb12f452",
   "metadata": {},
   "source": [
    "For NanoEvents, there is a slightly different syntax to access our data. Instead of querying <code>keys()</code> to find our fields we query <code>fields</code>. We can still access specific fields as we would navigate a dictionary (<code>collection[field]</code>) or we can navigate them in a new way: <code>collection.field</code>.\n",
    "\n",
    "Let's take a look at our fields now:"
   ]
  },
  {
   "cell_type": "code",
   "execution_count": 39,
   "id": "c3b83bd4-d51f-4381-a847-6ba9059b2de3",
   "metadata": {
    "tags": []
   },
   "outputs": [
    {
     "data": {
      "text/plain": [
       "['jet', 'photon', 'tau', 'electron', 'muon', 'trigobj', 'met', 'GenPart', 'PV']"
      ]
     },
     "execution_count": 39,
     "metadata": {},
     "output_type": "execute_result"
    }
   ],
   "source": [
    "agc_events.fields"
   ]
  },
  {
   "cell_type": "markdown",
   "id": "048de18a-fbb3-4900-9179-e694d06fa32e",
   "metadata": {},
   "source": [
    "We can confirm that no information has been lost by querying the <code>fields</code> of our event fields:"
   ]
  },
  {
   "cell_type": "code",
   "execution_count": 40,
   "id": "5700692e-81ba-41ff-a180-913620367272",
   "metadata": {
    "tags": []
   },
   "outputs": [
    {
     "data": {
      "text/plain": [
       "['pt',\n",
       " 'px',\n",
       " 'py',\n",
       " 'pz',\n",
       " 'eta',\n",
       " 'phi',\n",
       " 'ch',\n",
       " 'isSoft',\n",
       " 'isTight',\n",
       " 'dxy',\n",
       " 'dz',\n",
       " 'dxyError',\n",
       " 'dzError',\n",
       " 'pfreliso03all',\n",
       " 'pfreliso04all',\n",
       " 'jetidx',\n",
       " 'genpartidx',\n",
       " 'energy']"
      ]
     },
     "execution_count": 40,
     "metadata": {},
     "output_type": "execute_result"
    }
   ],
   "source": [
    "agc_events.muon.fields"
   ]
  },
  {
   "cell_type": "markdown",
   "id": "6ccb9901-3669-4c3e-ac8b-325022adf0a4",
   "metadata": {},
   "source": [
    "All of the branches above are still here, just as fields of our new electron collection. We can confirm this matches our original counts from uproot:"
   ]
  },
  {
   "cell_type": "code",
   "execution_count": 41,
   "id": "ce23e19d-af49-4131-9191-69b5aff69f1a",
   "metadata": {},
   "outputs": [
    {
     "data": {
      "text/plain": [
       "(<Array [3, 2, 3, 2, 2, 2, ... 1, 1, 2, 3, 1, 5] type='43962 * int32'>,\n",
       " <Array [3, 2, 3, 2, 2, 2, ... 1, 1, 2, 3, 1, 5] type='43962 * int64'>)"
      ]
     },
     "execution_count": 41,
     "metadata": {},
     "output_type": "execute_result"
    }
   ],
   "source": [
    "branches['numbermuon'].array(), ak.num(agc_events.muon)"
   ]
  },
  {
   "cell_type": "markdown",
   "id": "1a0390ca-1ccd-4af5-91c6-ac99b06b4eda",
   "metadata": {},
   "source": [
    "So, aesthetically, everything is much nicer. If we had a messier dataset, the schema can also standardize our names to get rid of any quirks. For example, every physics object in our tree has a <code>number{name}</code> field except for GenPart, which has <code>num{name}</code>. This discrepancy is irrelevant after the application of the schema, so we don't have to worry about it.\n",
    "\n",
    "There are also other benefits to this structure: as we now have a collection object (<code>agc_events.muon</code>), there is a natural place to impose physics methods. By default, this collection object does nothing - it's just a category. But we're physicists, and we often want to deal with Lorentz vectors. Why not treat these objects as such?\n",
    "\n",
    "This behavior can be built fairly simply into a schema simply by specifying that it is a <code>PtEtaPhiELorentzVector</code> and having the appropriate fields present in each collection (in this case, pt, eta, phi and e). This makes mathematical operations on our <code>muon</code>s well-defined:"
   ]
  },
  {
   "cell_type": "code",
   "execution_count": 42,
   "id": "4d6b3b26-6f7c-40fb-9f99-37a1a1b84b21",
   "metadata": {},
   "outputs": [
    {
     "data": {
      "text/plain": [
       "<LorentzVectorRecord ... y: -20.9, z: 150, t: 179} type='LorentzVector[\"x\": floa...'>"
      ]
     },
     "execution_count": 42,
     "metadata": {},
     "output_type": "execute_result"
    }
   ],
   "source": [
    "agc_events.muon[0, 0] + agc_events.muon[0, 1]"
   ]
  },
  {
   "cell_type": "markdown",
   "id": "0f40e993-c832-454b-a46f-b9574e175462",
   "metadata": {},
   "source": [
    "And it gives us access to all of the standard LorentzVector methods:"
   ]
  },
  {
   "cell_type": "code",
   "execution_count": 43,
   "id": "0f69a577-ccc3-486c-a895-605fb233112d",
   "metadata": {},
   "outputs": [
    {
     "data": {
      "text/plain": [
       "2.5734195315471506"
      ]
     },
     "execution_count": 43,
     "metadata": {},
     "output_type": "execute_result"
    }
   ],
   "source": [
    "agc_events.muon[0, 0].delta_r(agc_events.muon[0, 1])"
   ]
  },
  {
   "cell_type": "markdown",
   "id": "3894475c-ba49-4e1f-9e4c-ff60f1459b4a",
   "metadata": {},
   "source": [
    "We can also access other LorentzVector formulations, if we want, as the conversions are built-in:"
   ]
  },
  {
   "cell_type": "code",
   "execution_count": 44,
   "id": "d0fab38b-d17a-453e-a993-05682a1bb481",
   "metadata": {},
   "outputs": [
    {
     "name": "stderr",
     "output_type": "stream",
     "text": [
      "/opt/conda/lib/python3.8/site-packages/awkward/_connect/_numpy.py:195: RuntimeWarning: invalid value encountered in sqrt\n",
      "  result = getattr(ufunc, method)(\n"
     ]
    },
    {
     "data": {
      "text/plain": [
       "(<Array [[4.64, -27.7, -2.24, ... -1.03, 0.934]] type='43962 * var * float32'>,\n",
       " <Array [[-50.8, 29.8, -2.34, ... 1.13, 0.547]] type='43962 * var * float32'>,\n",
       " <Array [[53.9, 96.3, 12.7, ... 4.28, -4.16]] type='43962 * var * float32'>,\n",
       " <Array [[0.104, 0.108, ... 0.106, 0.106]] type='43962 * var * float32'>)"
      ]
     },
     "execution_count": 44,
     "metadata": {},
     "output_type": "execute_result"
    }
   ],
   "source": [
    "agc_events.muon.x, agc_events.muon.y, agc_events.muon.z, agc_events.muon.mass"
   ]
  },
  {
   "cell_type": "markdown",
   "id": "90f4316c-76ef-446e-86d2-193b521bd6b9",
   "metadata": {},
   "source": [
    " NanoEvents can also impose other features, such as cross-references in our data; for example, linking the muon jetidx to the jet collection. This is not implemented in our present schema."
   ]
  },
  {
   "cell_type": "code",
   "execution_count": 45,
   "id": "2d58c9e4-1b61-4050-a9bd-a8eab715b644",
   "metadata": {},
   "outputs": [
    {
     "data": {
      "text/plain": [
       "['pt',\n",
       " 'px',\n",
       " 'py',\n",
       " 'pz',\n",
       " 'eta',\n",
       " 'phi',\n",
       " 'ch',\n",
       " 'isSoft',\n",
       " 'isTight',\n",
       " 'dxy',\n",
       " 'dz',\n",
       " 'dxyError',\n",
       " 'dzError',\n",
       " 'pfreliso03all',\n",
       " 'pfreliso04all',\n",
       " 'jetidx',\n",
       " 'genpartidx',\n",
       " 'energy']"
      ]
     },
     "execution_count": 45,
     "metadata": {},
     "output_type": "execute_result"
    }
   ],
   "source": [
    "agc_events.muon.fields"
   ]
  },
  {
   "cell_type": "markdown",
   "id": "de6d1d84-74ce-4b31-9d59-0564dcfef242",
   "metadata": {},
   "source": [
    "## **Analysis:** Plotting a Z-Peak"
   ]
  },
  {
   "cell_type": "markdown",
   "id": "865b5147-8310-44f8-97ef-b585c85443a5",
   "metadata": {},
   "source": [
    "With an understanding of basic columnar analysis and our data in the proper format, we are finally ready to turn our attention to our analysis. We want to plot the Z-peak. This involves plotting the pair-mass of leptons which have the same flavor (ee or mumu) and opposite sign. To discard anomalies, we also want to toss out leptons with less than 10 p<sub>T</sub>. This selection is trivial in the columnar paradigm.\n",
    "\n",
    "A couple of notes: since they're same-flavor, we can consider dimuons and dielectrons independently. Also, since this is a Z -> mumu dataset, we'd only expect to see the Z-peak for muons. There should be few electrons plotted."
   ]
  },
  {
   "cell_type": "code",
   "execution_count": 46,
   "id": "61ef3c19-dd80-425d-9db5-2c479f88dbd7",
   "metadata": {
    "tags": []
   },
   "outputs": [],
   "source": [
    "muons = agc_events.muon[agc_events.muon.pt > 10]\n",
    "electrons = agc_events.electron[agc_events.electron.pt > 10]\n",
    "\n",
    "dimuons = muons[(ak.num(muons, axis=1) == 2) & (ak.sum(muons.ch, axis=1) == 0)]\n",
    "dielectrons = electrons[(ak.num(electrons, axis=1) == 2) & (ak.sum(electrons.ch, axis=1) == 0)]"
   ]
  },
  {
   "cell_type": "markdown",
   "id": "c0401964-dd09-41e2-b803-a7806f1d0747",
   "metadata": {},
   "source": [
    "Our <code>dimuons</code> array should now contain only opposite-charge muon pairs and our <code>dielectrons</code> opposite-charge electron pairs. Let's check!"
   ]
  },
  {
   "cell_type": "code",
   "execution_count": 47,
   "id": "89c8dae6-9adb-4bc3-9f5d-96936c4e6ab5",
   "metadata": {
    "tags": []
   },
   "outputs": [
    {
     "data": {
      "text/plain": [
       "(<PtEtaPhiELorentzVectorArray [[{pt: 51, px: 4.64, ... energy: 79.9}]] type='2003...'>,\n",
       " <PtEtaPhiELorentzVectorArray [[{pt: 26.3, ... energy: 21.1}]] type='33 * var * P...'>)"
      ]
     },
     "execution_count": 47,
     "metadata": {},
     "output_type": "execute_result"
    }
   ],
   "source": [
    "dimuons, dielectrons"
   ]
  },
  {
   "cell_type": "markdown",
   "id": "7fe78f4d-aab3-4bd3-bbd4-0b9e360cd89f",
   "metadata": {},
   "source": [
    "Note that the masks performed a cut at the event level rather than the muon level. We have fewer events, but the same amount of leptons in each event (in the events that we kept). That means we've lost the connection between muons and electrons - they've been downselected and it is not the case that the 1st subarray in our electron array is the same event as the 1st subarray in our muon array. This isn't a problem since we're handling the two independently, but there are ways to handle such a selection without downselection if such indexing needs to be preserved.\n",
    "\n",
    "All we need now is the dilepton mass. Awkward arrays can be indexed in a similar way as numpy arrays, so <code>dimuons[:, 0]</code> will select the first muon in every <code>dimuon</code> event. Recall that NanoEvents allows us to treat mathematical operations on the muon collection level as LorentzVector objects. The same goes for our electrons collection, of course. That makes our life easy:"
   ]
  },
  {
   "cell_type": "code",
   "execution_count": 48,
   "id": "ea1eb5b0-7d6e-4c80-aa7c-986265117200",
   "metadata": {
    "tags": []
   },
   "outputs": [
    {
     "data": {
      "text/plain": [
       "(<Array [91.7, 85.8, 92.3, ... 90.9, 97.7, 96.2] type='20037 * float32'>,\n",
       " <Array [115, 1.07, 50.4, ... 1.21, 1.11, 0.989] type='33 * float32'>)"
      ]
     },
     "execution_count": 48,
     "metadata": {},
     "output_type": "execute_result"
    }
   ],
   "source": [
    "mumu_mass = (dimuons[:, 0] + dimuons[:, 1]).mass\n",
    "ee_mass = (dielectrons[:, 0] + dielectrons[:, 1]).mass\n",
    "\n",
    "mumu_mass, ee_mass"
   ]
  },
  {
   "cell_type": "markdown",
   "id": "90a361ef-846e-447c-937d-56abb122ebf2",
   "metadata": {},
   "source": [
    "This has collapsed our subarrays because we're finding the mass of the pairs, so now we have a flat array. It is of the same size (respectively) as our dimuons and dielectrons arrays above. We now have our data!\n",
    "\n",
    "What else do we need for plotting? Well, a histogram is essentially a way to reduce our data. We can't just plot every value of dimuon mass, so we divide up our range of masses into n bins across some reasonable range. Thus, we need to define the mapping for our reduction; defining the number of bins and the range is sufficient for this. This is called a <code>Regular</code> axis in the Hist package.\n",
    "\n",
    "In our case, let's plot 50 bins between values of 0 and 150. This merely cuts off a shrinking tail on the higher end. Because a histogram can contain an arbitrary amount of axes, we also need to give our axis a name (which becomes its reference in our code) and a label (which is the label on the axis that users see when the histogram is plotted)."
   ]
  },
  {
   "cell_type": "code",
   "execution_count": 49,
   "id": "d9bf9bb7-db03-475a-bb5f-484003bfae0d",
   "metadata": {
    "tags": []
   },
   "outputs": [],
   "source": [
    "ll_bin = hist.axis.Regular(label=\"Dilepton Mass\", name=\"dilep_mass\", bins=50, start=0, stop=150)"
   ]
  },
  {
   "cell_type": "markdown",
   "id": "33b35d1b-ff9e-4f73-9851-977130248f84",
   "metadata": {},
   "source": [
    "We are still not *yet* ready to plot. We have two masses we'd like to plot, and it doesn't make much sense to throw ee masses into the same bins as $\\mu\\mu$ masses. We want to keep these separate. We do so by introducing a <code>Categorical</code> axis. Another example of when we might use a categorical axis is to keep data from different datasets separate, though in our case we're only working with a single dataset.\n",
    "\n",
    "A <code>Categorical</code> axis takes a name, a label, and a pre-defined list of categories."
   ]
  },
  {
   "cell_type": "code",
   "execution_count": 50,
   "id": "7b06e44e-87cf-4042-a9b7-8b805a6adfb0",
   "metadata": {
    "tags": []
   },
   "outputs": [],
   "source": [
    "ll_cat = hist.axis.StrCategory(label='Leptons', name='lepton', categories=[\"ee\", \"$\\mu\\mu$\"])"
   ]
  },
  {
   "cell_type": "markdown",
   "id": "5db5a5fb-d8a8-4532-87e8-bdd6a6e3532a",
   "metadata": {},
   "source": [
    "We finally have all of the ingredients needed for a histogram! All that remains is to put them together:"
   ]
  },
  {
   "cell_type": "code",
   "execution_count": 51,
   "id": "a8395f72-65ad-4414-9f32-0a4ef5984e36",
   "metadata": {
    "tags": []
   },
   "outputs": [],
   "source": [
    "ll_hist = Hist(ll_bin, ll_cat)"
   ]
  },
  {
   "cell_type": "markdown",
   "id": "92e3322d-a601-43a5-9d80-bed800c8f480",
   "metadata": {},
   "source": [
    "And to fill it with our data:"
   ]
  },
  {
   "cell_type": "code",
   "execution_count": 52,
   "id": "80e4096d-e519-4787-a92e-a098bac08ae5",
   "metadata": {
    "tags": []
   },
   "outputs": [
    {
     "data": {
      "text/html": [
       "<html>\n",
       "<div style=\"display:flex; align-items:center;\">\n",
       "<div style=\"width:290px;\">\n",
       "<svg xmlns=\"http://www.w3.org/2000/svg\" viewBox=\"-20 -270 290 290\">\n",
       "<text text-anchor=\"middle\" x=\"0\" y=\"13\" style=\"fill:currentColor;\">\n",
       "0\n",
       "</text>\n",
       "<text text-anchor=\"middle\" x=\"250\" y=\"13\" style=\"fill:currentColor;\">\n",
       "150\n",
       "</text>\n",
       "<text text-anchor=\"middle\" x=\"-10\" y=\"0\" style=\"fill:currentColor;\">\n",
       "0\n",
       "</text>\n",
       "<text text-anchor=\"middle\" x=\"-10\" y=\"-250\" style=\"fill:currentColor;\">\n",
       "2\n",
       "</text>\n",
       "<text text-anchor=\"middle\" x=\"125.0\" y=\"13\" style=\"fill:currentColor;\">\n",
       "Dilepton Mass\n",
       "</text>\n",
       "<text text-anchor=\"middle\" x=\"-10\" y=\"-125.0\" transform=\"rotate(-90,-10,-125.0)\" style=\"fill:currentColor;\">\n",
       "Leptons\n",
       "</text>\n",
       "<rect x=\"0.0\" y=\"-125.0\" width=\"5.0\" height=\"125.0\" opacity=\"0.0019549068161084323\" fill=\"currentColor\" stroke-width=\"0.1\"/>\n",
       "<rect x=\"5.0\" y=\"-125.0\" width=\"5.0\" height=\"125.0\" opacity=\"0.0\" fill=\"currentColor\" stroke-width=\"0.1\"/>\n",
       "<rect x=\"10.0\" y=\"-125.0\" width=\"5.0\" height=\"125.0\" opacity=\"0.0\" fill=\"currentColor\" stroke-width=\"0.1\"/>\n",
       "<rect x=\"15.0\" y=\"-125.0\" width=\"5.0\" height=\"125.0\" opacity=\"0.00013032712107389547\" fill=\"currentColor\" stroke-width=\"0.1\"/>\n",
       "<rect x=\"20.0\" y=\"-125.0\" width=\"5.0\" height=\"125.0\" opacity=\"0.0\" fill=\"currentColor\" stroke-width=\"0.1\"/>\n",
       "<rect x=\"25.0\" y=\"-125.0\" width=\"5.0\" height=\"125.0\" opacity=\"0.0\" fill=\"currentColor\" stroke-width=\"0.1\"/>\n",
       "<rect x=\"30.0\" y=\"-125.0\" width=\"5.0\" height=\"125.0\" opacity=\"0.0\" fill=\"currentColor\" stroke-width=\"0.1\"/>\n",
       "<rect x=\"35.0\" y=\"-125.0\" width=\"5.0\" height=\"125.0\" opacity=\"0.0\" fill=\"currentColor\" stroke-width=\"0.1\"/>\n",
       "<rect x=\"40.0\" y=\"-125.0\" width=\"5.0\" height=\"125.0\" opacity=\"0.0\" fill=\"currentColor\" stroke-width=\"0.1\"/>\n",
       "<rect x=\"45.0\" y=\"-125.0\" width=\"5.0\" height=\"125.0\" opacity=\"0.00026065424214779094\" fill=\"currentColor\" stroke-width=\"0.1\"/>\n",
       "<rect x=\"50.0\" y=\"-125.0\" width=\"5.0\" height=\"125.0\" opacity=\"0.00013032712107389547\" fill=\"currentColor\" stroke-width=\"0.1\"/>\n",
       "<rect x=\"55.0\" y=\"-125.0\" width=\"5.0\" height=\"125.0\" opacity=\"0.00013032712107389547\" fill=\"currentColor\" stroke-width=\"0.1\"/>\n",
       "<rect x=\"60.0\" y=\"-125.0\" width=\"5.0\" height=\"125.0\" opacity=\"0.0\" fill=\"currentColor\" stroke-width=\"0.1\"/>\n",
       "<rect x=\"65.0\" y=\"-125.0\" width=\"5.0\" height=\"125.0\" opacity=\"0.0\" fill=\"currentColor\" stroke-width=\"0.1\"/>\n",
       "<rect x=\"70.0\" y=\"-125.0\" width=\"5.0\" height=\"125.0\" opacity=\"0.00039098136322168736\" fill=\"currentColor\" stroke-width=\"0.1\"/>\n",
       "<rect x=\"75.0\" y=\"-125.0\" width=\"5.0\" height=\"125.0\" opacity=\"0.00013032712107389547\" fill=\"currentColor\" stroke-width=\"0.1\"/>\n",
       "<rect x=\"80.0\" y=\"-125.0\" width=\"5.0\" height=\"125.0\" opacity=\"0.00013032712107389515\" fill=\"currentColor\" stroke-width=\"0.1\"/>\n",
       "<rect x=\"85.0\" y=\"-125.0\" width=\"5.0\" height=\"125.0\" opacity=\"0.0\" fill=\"currentColor\" stroke-width=\"0.1\"/>\n",
       "<rect x=\"90.0\" y=\"-125.0\" width=\"5.0\" height=\"125.0\" opacity=\"0.0\" fill=\"currentColor\" stroke-width=\"0.1\"/>\n",
       "<rect x=\"95.0\" y=\"-125.0\" width=\"5.0\" height=\"125.0\" opacity=\"0.0\" fill=\"currentColor\" stroke-width=\"0.1\"/>\n",
       "<rect x=\"100.0\" y=\"-125.0\" width=\"5.0\" height=\"125.0\" opacity=\"0.00026065424214779094\" fill=\"currentColor\" stroke-width=\"0.1\"/>\n",
       "<rect x=\"105.0\" y=\"-125.0\" width=\"5.0\" height=\"125.0\" opacity=\"0.0\" fill=\"currentColor\" stroke-width=\"0.1\"/>\n",
       "<rect x=\"110.0\" y=\"-125.0\" width=\"5.0\" height=\"125.0\" opacity=\"0.0\" fill=\"currentColor\" stroke-width=\"0.1\"/>\n",
       "<rect x=\"115.0\" y=\"-125.0\" width=\"5.0\" height=\"125.0\" opacity=\"0.0\" fill=\"currentColor\" stroke-width=\"0.1\"/>\n",
       "<rect x=\"120.0\" y=\"-125.0\" width=\"5.0\" height=\"125.0\" opacity=\"0.0\" fill=\"currentColor\" stroke-width=\"0.1\"/>\n",
       "<rect x=\"125.0\" y=\"-125.0\" width=\"5.0\" height=\"125.0\" opacity=\"0.0\" fill=\"currentColor\" stroke-width=\"0.1\"/>\n",
       "<rect x=\"130.0\" y=\"-125.0\" width=\"5.0\" height=\"125.0\" opacity=\"0.00013032712107389547\" fill=\"currentColor\" stroke-width=\"0.1\"/>\n",
       "<rect x=\"135.0\" y=\"-125.0\" width=\"5.0\" height=\"125.0\" opacity=\"0.0\" fill=\"currentColor\" stroke-width=\"0.1\"/>\n",
       "<rect x=\"140.0\" y=\"-125.0\" width=\"5.0\" height=\"125.0\" opacity=\"0.0\" fill=\"currentColor\" stroke-width=\"0.1\"/>\n",
       "<rect x=\"145.0\" y=\"-125.0\" width=\"5.0\" height=\"125.0\" opacity=\"0.0\" fill=\"currentColor\" stroke-width=\"0.1\"/>\n",
       "<rect x=\"150.0\" y=\"-125.0\" width=\"5.0\" height=\"125.0\" opacity=\"0.0\" fill=\"currentColor\" stroke-width=\"0.1\"/>\n",
       "<rect x=\"155.0\" y=\"-125.0\" width=\"5.0\" height=\"125.0\" opacity=\"0.0\" fill=\"currentColor\" stroke-width=\"0.1\"/>\n",
       "<rect x=\"160.0\" y=\"-125.0\" width=\"5.0\" height=\"125.0\" opacity=\"0.0\" fill=\"currentColor\" stroke-width=\"0.1\"/>\n",
       "<rect x=\"165.0\" y=\"-125.0\" width=\"5.0\" height=\"125.0\" opacity=\"0.0\" fill=\"currentColor\" stroke-width=\"0.1\"/>\n",
       "<rect x=\"170.0\" y=\"-125.0\" width=\"5.0\" height=\"125.0\" opacity=\"0.0\" fill=\"currentColor\" stroke-width=\"0.1\"/>\n",
       "<rect x=\"175.0\" y=\"-125.0\" width=\"5.0\" height=\"125.0\" opacity=\"0.0\" fill=\"currentColor\" stroke-width=\"0.1\"/>\n",
       "<rect x=\"180.0\" y=\"-125.0\" width=\"5.0\" height=\"125.0\" opacity=\"0.0\" fill=\"currentColor\" stroke-width=\"0.1\"/>\n",
       "<rect x=\"185.0\" y=\"-125.0\" width=\"5.0\" height=\"125.0\" opacity=\"0.00013032712107389547\" fill=\"currentColor\" stroke-width=\"0.1\"/>\n",
       "<rect x=\"190.0\" y=\"-125.0\" width=\"5.0\" height=\"125.0\" opacity=\"0.00013032712107389547\" fill=\"currentColor\" stroke-width=\"0.1\"/>\n",
       "<rect x=\"195.0\" y=\"-125.0\" width=\"5.0\" height=\"125.0\" opacity=\"0.0\" fill=\"currentColor\" stroke-width=\"0.1\"/>\n",
       "<rect x=\"200.0\" y=\"-125.0\" width=\"5.0\" height=\"125.0\" opacity=\"0.0\" fill=\"currentColor\" stroke-width=\"0.1\"/>\n",
       "<rect x=\"205.0\" y=\"-125.0\" width=\"5.0\" height=\"125.0\" opacity=\"0.0\" fill=\"currentColor\" stroke-width=\"0.1\"/>\n",
       "<rect x=\"210.0\" y=\"-125.0\" width=\"5.0\" height=\"125.0\" opacity=\"0.0\" fill=\"currentColor\" stroke-width=\"0.1\"/>\n",
       "<rect x=\"215.0\" y=\"-125.0\" width=\"5.0\" height=\"125.0\" opacity=\"0.00026065424214779094\" fill=\"currentColor\" stroke-width=\"0.1\"/>\n",
       "<rect x=\"220.0\" y=\"-125.0\" width=\"5.0\" height=\"125.0\" opacity=\"0.0\" fill=\"currentColor\" stroke-width=\"0.1\"/>\n",
       "<rect x=\"225.0\" y=\"-125.0\" width=\"5.0\" height=\"125.0\" opacity=\"0.0\" fill=\"currentColor\" stroke-width=\"0.1\"/>\n",
       "<rect x=\"230.0\" y=\"-125.0\" width=\"5.0\" height=\"125.0\" opacity=\"0.0\" fill=\"currentColor\" stroke-width=\"0.1\"/>\n",
       "<rect x=\"235.0\" y=\"-125.0\" width=\"5.0\" height=\"125.0\" opacity=\"0.0\" fill=\"currentColor\" stroke-width=\"0.1\"/>\n",
       "<rect x=\"240.0\" y=\"-125.0\" width=\"5.0\" height=\"125.0\" opacity=\"0.0\" fill=\"currentColor\" stroke-width=\"0.1\"/>\n",
       "<rect x=\"245.0\" y=\"-125.0\" width=\"5.0\" height=\"125.0\" opacity=\"0.0\" fill=\"currentColor\" stroke-width=\"0.1\"/>\n",
       "<rect x=\"0.0\" y=\"-250.0\" width=\"5.0\" height=\"125.0\" opacity=\"0.0009122898475172683\" fill=\"currentColor\" stroke-width=\"0.1\"/>\n",
       "<rect x=\"5.0\" y=\"-250.0\" width=\"5.0\" height=\"125.0\" opacity=\"0.0020852339371823275\" fill=\"currentColor\" stroke-width=\"0.1\"/>\n",
       "<rect x=\"10.0\" y=\"-250.0\" width=\"5.0\" height=\"125.0\" opacity=\"0.0006516356053694773\" fill=\"currentColor\" stroke-width=\"0.1\"/>\n",
       "<rect x=\"15.0\" y=\"-250.0\" width=\"5.0\" height=\"125.0\" opacity=\"0.0005213084842955819\" fill=\"currentColor\" stroke-width=\"0.1\"/>\n",
       "<rect x=\"20.0\" y=\"-250.0\" width=\"5.0\" height=\"125.0\" opacity=\"0.0006516356053694773\" fill=\"currentColor\" stroke-width=\"0.1\"/>\n",
       "<rect x=\"25.0\" y=\"-250.0\" width=\"5.0\" height=\"125.0\" opacity=\"0.00039098136322168644\" fill=\"currentColor\" stroke-width=\"0.1\"/>\n",
       "<rect x=\"30.0\" y=\"-250.0\" width=\"5.0\" height=\"125.0\" opacity=\"0.0006516356053694766\" fill=\"currentColor\" stroke-width=\"0.1\"/>\n",
       "<rect x=\"35.0\" y=\"-250.0\" width=\"5.0\" height=\"125.0\" opacity=\"0.0005213084842955825\" fill=\"currentColor\" stroke-width=\"0.1\"/>\n",
       "<rect x=\"40.0\" y=\"-250.0\" width=\"5.0\" height=\"125.0\" opacity=\"0.0006516356053694773\" fill=\"currentColor\" stroke-width=\"0.1\"/>\n",
       "<rect x=\"45.0\" y=\"-250.0\" width=\"5.0\" height=\"125.0\" opacity=\"0.00039098136322168644\" fill=\"currentColor\" stroke-width=\"0.1\"/>\n",
       "<rect x=\"50.0\" y=\"-250.0\" width=\"5.0\" height=\"125.0\" opacity=\"0.0010426169685911638\" fill=\"currentColor\" stroke-width=\"0.1\"/>\n",
       "<rect x=\"55.0\" y=\"-250.0\" width=\"5.0\" height=\"125.0\" opacity=\"0.0005213084842955819\" fill=\"currentColor\" stroke-width=\"0.1\"/>\n",
       "<rect x=\"60.0\" y=\"-250.0\" width=\"5.0\" height=\"125.0\" opacity=\"0.0010426169685911638\" fill=\"currentColor\" stroke-width=\"0.1\"/>\n",
       "<rect x=\"65.0\" y=\"-250.0\" width=\"5.0\" height=\"125.0\" opacity=\"0.001824579695034532\" fill=\"currentColor\" stroke-width=\"0.1\"/>\n",
       "<rect x=\"70.0\" y=\"-250.0\" width=\"5.0\" height=\"125.0\" opacity=\"0.0033885051479212907\" fill=\"currentColor\" stroke-width=\"0.1\"/>\n",
       "<rect x=\"75.0\" y=\"-250.0\" width=\"5.0\" height=\"125.0\" opacity=\"0.003909813632216865\" fill=\"currentColor\" stroke-width=\"0.1\"/>\n",
       "<rect x=\"80.0\" y=\"-250.0\" width=\"5.0\" height=\"125.0\" opacity=\"0.01185976801772446\" fill=\"currentColor\" stroke-width=\"0.1\"/>\n",
       "<rect x=\"85.0\" y=\"-250.0\" width=\"5.0\" height=\"125.0\" opacity=\"0.02202528346148839\" fill=\"currentColor\" stroke-width=\"0.1\"/>\n",
       "<rect x=\"90.0\" y=\"-250.0\" width=\"5.0\" height=\"125.0\" opacity=\"0.01668187149745862\" fill=\"currentColor\" stroke-width=\"0.1\"/>\n",
       "<rect x=\"95.0\" y=\"-250.0\" width=\"5.0\" height=\"125.0\" opacity=\"0.015769581649941352\" fill=\"currentColor\" stroke-width=\"0.1\"/>\n",
       "<rect x=\"100.0\" y=\"-250.0\" width=\"5.0\" height=\"125.0\" opacity=\"0.01746383422390199\" fill=\"currentColor\" stroke-width=\"0.1\"/>\n",
       "<rect x=\"105.0\" y=\"-250.0\" width=\"5.0\" height=\"125.0\" opacity=\"0.020591685129675484\" fill=\"currentColor\" stroke-width=\"0.1\"/>\n",
       "<rect x=\"110.0\" y=\"-250.0\" width=\"5.0\" height=\"125.0\" opacity=\"0.018897432555714844\" fill=\"currentColor\" stroke-width=\"0.1\"/>\n",
       "<rect x=\"115.0\" y=\"-250.0\" width=\"5.0\" height=\"125.0\" opacity=\"0.024240844519744557\" fill=\"currentColor\" stroke-width=\"0.1\"/>\n",
       "<rect x=\"120.0\" y=\"-250.0\" width=\"5.0\" height=\"125.0\" opacity=\"0.03101785481558712\" fill=\"currentColor\" stroke-width=\"0.1\"/>\n",
       "<rect x=\"125.0\" y=\"-250.0\" width=\"5.0\" height=\"125.0\" opacity=\"0.04118337025935097\" fill=\"currentColor\" stroke-width=\"0.1\"/>\n",
       "<rect x=\"130.0\" y=\"-250.0\" width=\"5.0\" height=\"125.0\" opacity=\"0.05173986706633651\" fill=\"currentColor\" stroke-width=\"0.1\"/>\n",
       "<rect x=\"135.0\" y=\"-250.0\" width=\"5.0\" height=\"125.0\" opacity=\"0.09161996611494809\" fill=\"currentColor\" stroke-width=\"0.1\"/>\n",
       "<rect x=\"140.0\" y=\"-250.0\" width=\"5.0\" height=\"125.0\" opacity=\"0.17059820148573\" fill=\"currentColor\" stroke-width=\"0.1\"/>\n",
       "<rect x=\"145.0\" y=\"-250.0\" width=\"5.0\" height=\"125.0\" opacity=\"0.5700508275772188\" fill=\"currentColor\" stroke-width=\"0.1\"/>\n",
       "<rect x=\"150.0\" y=\"-250.0\" width=\"5.0\" height=\"125.0\" opacity=\"1.0\" fill=\"currentColor\" stroke-width=\"0.1\"/>\n",
       "<rect x=\"155.0\" y=\"-250.0\" width=\"5.0\" height=\"125.0\" opacity=\"0.3168252313306399\" fill=\"currentColor\" stroke-width=\"0.1\"/>\n",
       "<rect x=\"160.0\" y=\"-250.0\" width=\"5.0\" height=\"125.0\" opacity=\"0.07702332855467223\" fill=\"currentColor\" stroke-width=\"0.1\"/>\n",
       "<rect x=\"165.0\" y=\"-250.0\" width=\"5.0\" height=\"125.0\" opacity=\"0.03505799556887772\" fill=\"currentColor\" stroke-width=\"0.1\"/>\n",
       "<rect x=\"170.0\" y=\"-250.0\" width=\"5.0\" height=\"125.0\" opacity=\"0.017854815587123762\" fill=\"currentColor\" stroke-width=\"0.1\"/>\n",
       "<rect x=\"175.0\" y=\"-250.0\" width=\"5.0\" height=\"125.0\" opacity=\"0.014596637560276293\" fill=\"currentColor\" stroke-width=\"0.1\"/>\n",
       "<rect x=\"180.0\" y=\"-250.0\" width=\"5.0\" height=\"125.0\" opacity=\"0.008210608627655413\" fill=\"currentColor\" stroke-width=\"0.1\"/>\n",
       "<rect x=\"185.0\" y=\"-250.0\" width=\"5.0\" height=\"125.0\" opacity=\"0.005213084842955819\" fill=\"currentColor\" stroke-width=\"0.1\"/>\n",
       "<rect x=\"190.0\" y=\"-250.0\" width=\"5.0\" height=\"125.0\" opacity=\"0.00404014075329076\" fill=\"currentColor\" stroke-width=\"0.1\"/>\n",
       "<rect x=\"195.0\" y=\"-250.0\" width=\"5.0\" height=\"125.0\" opacity=\"0.004431122116512446\" fill=\"currentColor\" stroke-width=\"0.1\"/>\n",
       "<rect x=\"200.0\" y=\"-250.0\" width=\"5.0\" height=\"125.0\" opacity=\"0.0005213084842955844\" fill=\"currentColor\" stroke-width=\"0.1\"/>\n",
       "<rect x=\"205.0\" y=\"-250.0\" width=\"5.0\" height=\"125.0\" opacity=\"0.00039098136322168454\" fill=\"currentColor\" stroke-width=\"0.1\"/>\n",
       "<rect x=\"210.0\" y=\"-250.0\" width=\"5.0\" height=\"125.0\" opacity=\"0.0\" fill=\"currentColor\" stroke-width=\"0.1\"/>\n",
       "<rect x=\"215.0\" y=\"-250.0\" width=\"5.0\" height=\"125.0\" opacity=\"0.00013032712107389547\" fill=\"currentColor\" stroke-width=\"0.1\"/>\n",
       "<rect x=\"220.0\" y=\"-250.0\" width=\"5.0\" height=\"125.0\" opacity=\"0.00026065424214779094\" fill=\"currentColor\" stroke-width=\"0.1\"/>\n",
       "<rect x=\"225.0\" y=\"-250.0\" width=\"5.0\" height=\"125.0\" opacity=\"0.0\" fill=\"currentColor\" stroke-width=\"0.1\"/>\n",
       "<rect x=\"230.0\" y=\"-250.0\" width=\"5.0\" height=\"125.0\" opacity=\"0.00013032712107389547\" fill=\"currentColor\" stroke-width=\"0.1\"/>\n",
       "<rect x=\"235.0\" y=\"-250.0\" width=\"5.0\" height=\"125.0\" opacity=\"0.00013032712107389547\" fill=\"currentColor\" stroke-width=\"0.1\"/>\n",
       "<rect x=\"240.0\" y=\"-250.0\" width=\"5.0\" height=\"125.0\" opacity=\"0.00013032712107389547\" fill=\"currentColor\" stroke-width=\"0.1\"/>\n",
       "<rect x=\"245.0\" y=\"-250.0\" width=\"5.0\" height=\"125.0\" opacity=\"0.00039098136322168644\" fill=\"currentColor\" stroke-width=\"0.1\"/>\n",
       "</svg>\n",
       "</div>\n",
       "<div style=\"flex=grow:1;\">\n",
       "Regular(50, 0, 150, name='dilep_mass', label='Dilepton Mass')<br/>\n",
       "StrCategory(['ee', '$\\\\mu\\\\mu$'], name='lepton', label='Leptons')<br/>\n",
       "<hr style=\"margin-top:.2em; margin-bottom:.2em;\"/>\n",
       "Double() Σ=20045.0 <em>(20070.0 with flow)</em>\n",
       "\n",
       "</div>\n",
       "</div>\n",
       "</html>"
      ],
      "text/plain": [
       "Hist(\n",
       "  Regular(50, 0, 150, name='dilep_mass', label='Dilepton Mass'),\n",
       "  StrCategory(['ee', '$\\\\mu\\\\mu$'], name='lepton', label='Leptons'),\n",
       "  storage=Double()) # Sum: 20045.0 (20070.0 with flow)"
      ]
     },
     "execution_count": 52,
     "metadata": {},
     "output_type": "execute_result"
    }
   ],
   "source": [
    "ll_hist.fill(lepton=\"$\\mu\\mu$\", dilep_mass=mumu_mass)\n",
    "ll_hist.fill(lepton=\"ee\", dilep_mass=ee_mass)"
   ]
  },
  {
   "cell_type": "markdown",
   "id": "ff40a4a2-4627-42d8-a10e-cc17b2cbe9c6",
   "metadata": {},
   "source": [
    "And plot!"
   ]
  },
  {
   "cell_type": "code",
   "execution_count": 53,
   "id": "249c2ef0-21cc-46a3-a9ce-7df7dbd8b017",
   "metadata": {
    "tags": []
   },
   "outputs": [
    {
     "data": {
      "text/plain": [
       "<matplotlib.legend.Legend at 0x7f8c701bbc70>"
      ]
     },
     "execution_count": 53,
     "metadata": {},
     "output_type": "execute_result"
    },
    {
     "data": {
      "image/png": "[encoded data removed]",
      "text/plain": [
       "<Figure size 640x480 with 1 Axes>"
      ]
     },
     "metadata": {},
     "output_type": "display_data"
    }
   ],
   "source": [
    "ll_hist.plot()\n",
    "plt.legend()"
   ]
  },
  {
   "cell_type": "markdown",
   "id": "591b3cb6-49fd-4417-85df-acfad50dd8bd",
   "metadata": {},
   "source": [
    "We can see a peak at around 90 for our dimuon events. Indeed, the mass of a Z boson is ~91.18.\n",
    "\n",
    "The Hist package is also capable of handling a variety of transormations to our histogram. You should refer to its documentation for more advanced features."
   ]
  },
  {
   "cell_type": "markdown",
   "id": "558b306f-1550-40fa-bbbb-0227f0c27ebd",
   "metadata": {},
   "source": [
    "## **Processors:** Deploying at Scale"
   ]
  },
  {
   "cell_type": "markdown",
   "id": "4fcb41f8-d88a-4f61-b71e-43408000d2ed",
   "metadata": {},
   "source": [
    "Now that we have an analysis, we would naturally like to scale it up to a far larger dataset in any practical scenario. More data means more processing time. We try to amend this fact by making use of parallel processing and distributed computing resources, which coffea can be deployed on rather naturally. Importantly, the details of our analysis are entirely independent of our deployment.\n",
    "\n",
    "First, it should be noted that we [b]can[/b] do this in HEP. Events are independent of each other, so if we split our work up and ship it off to different workers, we aren't violating the data's integrity. Furthermore, since the output we seek is a histogram, our output is also independent of how the work is split up. As long as each worker maps its data to a histogram, the summation of those histograms will be identical to a single worker processing all of the data. In coffea, an object that behaves in this way is called an accumulator.\n",
    "\n",
    "Thus, we have a pipeline: our input data is chunked, sent off to different workers which each execute the processor on their chunk, and then collected and converged once all workers finish processing.\n",
    "\n",
    "![Diagram of coffea processor](utilities/processor.png)\n",
    "\n",
    "We just have to package our analysis in a <code>Processor</code> class."
   ]
  },
  {
   "cell_type": "code",
   "execution_count": 54,
   "id": "9d865c04-d3b6-420b-b311-ea4fe9abbc8e",
   "metadata": {
    "tags": []
   },
   "outputs": [],
   "source": [
    "import coffea.processor as processor\n",
    "\n",
    "class Processor(processor.ProcessorABC):\n",
    "    def __init__(self):\n",
    "        pass\n",
    "    \n",
    "    def process(self, events):\n",
    "        muons = events.muon[events.muon.pt > 10]\n",
    "        electrons = events.electron[events.electron.pt > 10]\n",
    "        \n",
    "        dimuons = muons[(ak.num(muons, axis=1) == 2) & (ak.sum(muons.ch, axis=1) == 0)]\n",
    "        dielectrons = electrons[(ak.num(electrons, axis=1) == 2) & (ak.sum(electrons.ch, axis=1) == 0)]\n",
    "        mumu_mass = (dimuons[:, 0] + dimuons[:, 1]).mass\n",
    "        ee_mass = (dielectrons[:, 0] + dielectrons[:, 1]).mass\n",
    "        \n",
    "        ll_bin = hist.axis.Regular(label=\"Dilepton Mass\", name=\"dilep_mass\", bins=50, start=0, stop=150)\n",
    "        ll_cat = hist.axis.StrCategory(label='Leptons', name='lepton', categories=[\"ee\", \"$\\mu\\mu$\"])\n",
    "        ll_hist = Hist(ll_bin, ll_cat)\n",
    "        \n",
    "        ll_hist.fill(lepton='$\\mu\\mu$', dilep_mass=mumu_mass)\n",
    "        ll_hist.fill(lepton='ee', dilep_mass=ee_mass)\n",
    "        \n",
    "        return ll_hist\n",
    "        \n",
    "    def postprocess(self, accumulator):\n",
    "        pass"
   ]
  },
  {
   "cell_type": "markdown",
   "id": "3fd58bfe-f609-4277-9d61-ae680cae3dd3",
   "metadata": {},
   "source": [
    "To actually deploy our processor, we need to specify an executor. In coffea-casa, we have the ability to tap into Dask, so naturally it is the executor we use. There exist other executors for other big data technologies (e.g., Spark and Parsl), and there also exist executors for local deployment (using Python futures, or just iterating through chunks).\n",
    "\n",
    "The definition of our executor looks a little blocky. In actuality, it's not too complicated. We have to point to a Dask scheduler (which coordinates workers), and coffea-casa has a scheduler built in at <code>tls://localhost:8786</code>. We need to make sure all of our workers have our schema, since it is a local file, so we upload it through the scheduler. Then we instantiate an executor with our scheduler, apply our schema, and specify how big our chunks should be. Since we only have ~40000 events, we can do a chunk size of 10000.\n",
    "\n",
    "All that remains is plugging in a file set and specifying the processor we want to run!"
   ]
  },
  {
   "cell_type": "code",
   "execution_count": 55,
   "id": "c738b988-ffd4-4601-905c-c2753e25ca3f",
   "metadata": {
    "tags": []
   },
   "outputs": [],
   "source": [
    "### NOTE: Run this cell if want to use Dask executor. however, this needs to be setup... (work in progress)\n",
    "\n",
    "\n",
    "# fileset = {'SingleMu' : ['https://xrootd-local.unl.edu:1094//store/user/AGC/zmumu/RunIIFall15MiniAODv2/ZToMuMu_NNPDF30_13TeV-powheg_M_50_120/MINIAODSIM/PU25nsData2015v1_76X_mcRun2_asymptotic_v12-v1/20000/022FAAEA-1BB9-E511-A6DF-44A842CFD5D8.root']}\n",
    "\n",
    "# from dask.distributed import Client\n",
    "# client = Client(\"tls://localhost:8786\")\n",
    "# client.upload_file('agc_schema.py')\n",
    "\n",
    "# run = processor.Runner(executor=processor.DaskExecutor(client=client),\n",
    "#                       schema=AGCSchema,\n",
    "#                       chunksize=10000)\n",
    "\n",
    "# output = run(fileset, \"events\", Processor())"
   ]
  },
  {
   "cell_type": "code",
   "execution_count": 56,
   "id": "0a04b246-76a0-49e9-8d27-e4f28568f840",
   "metadata": {
    "tags": []
   },
   "outputs": [
    {
     "data": {
      "text/html": [
       "<pre style=\"white-space:pre;overflow-x:auto;line-height:normal;font-family:Menlo,'DejaVu Sans Mono',consolas,'Courier New',monospace\">     <span style=\"color: #000080; text-decoration-color: #000080; font-weight: bold\">Processing</span> <span style=\"color: #800080; text-decoration-color: #800080\">100%</span> <span style=\"color: #729c1f; text-decoration-color: #729c1f\">━━━━━━━━━━━━━━━━━━━━━━━━━━━━━━━━━━━━━━━━━━━━━━━━━━━━━</span> <span style=\"color: #000080; text-decoration-color: #000080; font-weight: bold\">2/2</span> [ <span style=\"color: #808000; text-decoration-color: #808000\">0:00:06</span> &lt; <span style=\"color: #008080; text-decoration-color: #008080\">0:00:00</span> | <span style=\"color: #800000; text-decoration-color: #800000\">5.3</span>  <span style=\"color: #800000; text-decoration-color: #800000\">chunk/s</span> ]\n",
       "<span style=\"color: #000080; text-decoration-color: #000080; font-weight: bold\">Merging (local)</span> <span style=\"color: #800080; text-decoration-color: #800080\">100%</span> <span style=\"color: #729c1f; text-decoration-color: #729c1f\">━━━━━━━━━━━━━━━━━━━━━━━━━━━━━━━━━━━━━━━━━━━━━━━━━━━━━</span> <span style=\"color: #000080; text-decoration-color: #000080; font-weight: bold\">2/2</span> [ <span style=\"color: #808000; text-decoration-color: #808000\">0:00:06</span> &lt; <span style=\"color: #008080; text-decoration-color: #008080\">0:00:00</span> | <span style=\"color: #800000; text-decoration-color: #800000\">?  </span> <span style=\"color: #800000; text-decoration-color: #800000\">merges/s</span> ]\n",
       "</pre>\n"
      ],
      "text/plain": [
       "     \u001b[1;34mProcessing\u001b[0m \u001b[35m100%\u001b[0m \u001b[38;2;114;156;31m━━━━━━━━━━━━━━━━━━━━━━━━━━━━━━━━━━━━━━━━━━━━━━━━━━━━━\u001b[0m \u001b[1;34m2/2\u001b[0m [ \u001b[33m0:00:06\u001b[0m < \u001b[36m0:00:00\u001b[0m | \u001b[31m5.3\u001b[0m  \u001b[31mchunk/s\u001b[0m ]\n",
       "\u001b[1;34mMerging (local)\u001b[0m \u001b[35m100%\u001b[0m \u001b[38;2;114;156;31m━━━━━━━━━━━━━━━━━━━━━━━━━━━━━━━━━━━━━━━━━━━━━━━━━━━━━\u001b[0m \u001b[1;34m2/2\u001b[0m [ \u001b[33m0:00:06\u001b[0m < \u001b[36m0:00:00\u001b[0m | \u001b[31m?  \u001b[0m \u001b[31mmerges/s\u001b[0m ]\n"
      ]
     },
     "metadata": {},
     "output_type": "display_data"
    },
    {
     "data": {
      "text/html": [
       "<pre style=\"white-space:pre;overflow-x:auto;line-height:normal;font-family:Menlo,'DejaVu Sans Mono',consolas,'Courier New',monospace\"></pre>\n"
      ],
      "text/plain": []
     },
     "metadata": {},
     "output_type": "display_data"
    },
    {
     "data": {
      "text/html": [
       "<pre style=\"white-space:pre;overflow-x:auto;line-height:normal;font-family:Menlo,'DejaVu Sans Mono',consolas,'Courier New',monospace\">\n",
       "</pre>\n"
      ],
      "text/plain": [
       "\n"
      ]
     },
     "metadata": {},
     "output_type": "display_data"
    }
   ],
   "source": [
    "# Execute using multiple local cores (called workers, do not use large numbers!) using python futures\n",
    "\n",
    "run = processor.Runner(executor=processor.FuturesExecutor(workers=2),\n",
    "                      schema=AGCSchema,\n",
    "                      chunksize=1000,\n",
    "                      maxchunks=2)\n",
    "\n",
    "output = run(fileset, \"events\", Processor())"
   ]
  },
  {
   "cell_type": "markdown",
   "id": "3c3ef6b1-70cc-4ad5-9164-dc6d5a607d18",
   "metadata": {},
   "source": [
    "Where a plot of the output demonstrates the same result as above."
   ]
  },
  {
   "cell_type": "code",
   "execution_count": 57,
   "id": "a7588745-4e25-408b-ac72-b04bed78986d",
   "metadata": {
    "tags": []
   },
   "outputs": [
    {
     "data": {
      "text/plain": [
       "[StairsArtists(stairs=<matplotlib.patches.StepPatch object at 0x7f8c2c1aba30>, errorbar=None, legend_artist=None),\n",
       " StairsArtists(stairs=<matplotlib.patches.StepPatch object at 0x7f8c2c21a970>, errorbar=None, legend_artist=None)]"
      ]
     },
     "execution_count": 57,
     "metadata": {},
     "output_type": "execute_result"
    },
    {
     "data": {
      "image/png": "[encoded data removed]",
      "text/plain": [
       "<Figure size 640x480 with 1 Axes>"
      ]
     },
     "metadata": {},
     "output_type": "display_data"
    }
   ],
   "source": [
    "output.plot()"
   ]
  },
  {
   "cell_type": "markdown",
   "id": "f4ddc410-6f79-4333-8749-b0daf6addeaa",
   "metadata": {},
   "source": [
    "Coffea executors also exist with the capabilities to handle other tools within the columnar analysis ecosystem, such as ServiceX, though they are presently a work-in-progress."
   ]
  },
  {
   "cell_type": "markdown",
   "id": "6515431f-4d6c-4eb8-b355-f2f972f76240",
   "metadata": {},
   "source": [
    "## Appendix"
   ]
  },
  {
   "cell_type": "markdown",
   "id": "603ceb51-3efd-45f3-9a39-b31d65ccd2b3",
   "metadata": {},
   "source": [
    "### Coffea"
   ]
  },
  {
   "cell_type": "markdown",
   "id": "35725e4b-b808-4a4d-aab4-4b5d724976e2",
   "metadata": {},
   "source": [
    "* [GitHub](https://github.com/CoffeaTeam/coffea)\n",
    "* [Documentation and User Guide](https://hist.readthedocs.io/en/latest/)\n",
    "* [Tutorials, Sample Analyses, and Other Examples](https://github.com/CoffeaTeam/coffea-casa-tutorials) - see the link's readme for specific details. A good introduction to (progressively) more complicated analysis operations can be found in the [examples](https://github.com/CoffeaTeam/coffea-casa-tutorials/tree/master/examples) folder. A walkthrough for a full-scale analysis can be found in the [tHq analysis](https://github.com/CoffeaTeam/coffea-casa-tutorials/blob/master/analyses/thq/analysis_tutorial.ipynb) folder."
   ]
  },
  {
   "cell_type": "markdown",
   "id": "c17d4b28-68f6-48ad-a100-43e7ff3eb8db",
   "metadata": {},
   "source": [
    "### Awkward"
   ]
  },
  {
   "cell_type": "markdown",
   "id": "2281c942-b9c0-4eb7-bd7b-0d2c3a37640a",
   "metadata": {},
   "source": [
    "* [GitHub](https://github.com/scikit-hep/awkward-1.0)\n",
    "* [Documentation](https://awkward-array.readthedocs.io/en/latest/)\n",
    "* [User Guide](https://awkward-array.org/quickstart.html)\n",
    "* [Uproot and Awkward Array Tutorial at PyHep 2021](https://github.com/jpivarski-talks/2021-07-06-pyhep-uproot-awkward-tutorial/blob/main/uproot-awkward-tutorial.ipynb)"
   ]
  },
  {
   "cell_type": "markdown",
   "id": "8cb1d0d8-9461-472a-abc3-0286a843c296",
   "metadata": {},
   "source": [
    "### Hists"
   ]
  },
  {
   "cell_type": "markdown",
   "id": "ddce6ea4-cca7-44cf-a146-dd41b7a8f500",
   "metadata": {},
   "source": [
    "* [GitHub](https://github.com/scikit-hep/hist)\n",
    "* [Documentation and User Guide](https://hist.readthedocs.io/en/latest/)"
   ]
  },
  {
   "cell_type": "markdown",
   "id": "8bea61a7-4f85-4cb2-b9cd-357c1394780f",
   "metadata": {},
   "source": [
    "### ServiceX (WIP)"
   ]
  },
  {
   "cell_type": "markdown",
   "id": "5025cbcd-6e70-46e4-a19c-ea29a42db3ad",
   "metadata": {},
   "source": [
    "* [Example](https://github.com/iris-hep/analysis-grand-challenge/blob/main/workshops/agctools2021/HZZ_analysis_pipeline/HZZ_analysis_pipeline.ipynb)"
   ]
  },
  {
   "cell_type": "markdown",
   "id": "08df1596-1410-4244-b0c9-a5ebbbed00ab",
   "metadata": {},
   "source": [
    "## Acknowledgements"
   ]
  },
  {
   "cell_type": "markdown",
   "id": "7df4e155-6a28-46be-9483-75d340d46f46",
   "metadata": {},
   "source": [
    "These projects are supported by National Science Foundation award 1913513 and OAC-1836650 (through IRIS-HEP)."
   ]
  }
 ],
 "metadata": {
  "kernelspec": {
   "display_name": "Python 3",
   "language": "python",
   "name": "python3"
  },
  "language_info": {
   "codemirror_mode": {
    "name": "ipython",
    "version": 3
   },
   "file_extension": ".py",
   "mimetype": "text/x-python",
   "name": "python",
   "nbconvert_exporter": "python",
   "pygments_lexer": "ipython3",
   "version": "3.8.15"
  }
 },
 "nbformat": 4,
 "nbformat_minor": 5
}
